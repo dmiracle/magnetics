{
 "cells": [
  {
   "cell_type": "markdown",
   "metadata": {},
   "source": [
    "# Polymagnets\n",
    "\n",
    "Messing around with creating interesting magnetic configurations with 3d printing and little rare earth magnets. Here is a video from my first spring/latch configuration [^](https://twitter.com/dmiracle/status/1078543165286768641).\n",
    "\n",
    "## Build\n",
    "\n",
    "## Simulation\n",
    "\n",
    "Create a calculator that calculates the potential energy as a function of angle at different heights. Use:\n",
    "\n",
    "$$U(\\theta) = -\\vec{\\mu}\\cdot\\vec{B}$$\n",
    "\n",
    "with\n",
    "\n",
    "$U \\textrm{potential}$$\n",
    "\n",
    "This will be made easier by not caring about actual units (we are only looking for pole configurations at this point) and because all the magnets are the same. All the $\\vec\\mu$ are in the $\\hat{z}$ direction and either 1 or -1. We will calculate $U(\\theta)$ for each magnet with respect to each other magnet. \n",
    "\n",
    "$$\\vec{B}(\\vec{r})=\\frac{\\mu_0}{4\\pi r^3}\\big [3(\\vec\\mu_r\\cdot\\hat{r})\\hat{r}-\\vec\\mu_r\\big ]$$\n",
    "\n",
    "$$U(r,\\theta) = -\\vec{\\mu}\\cdot\\frac{\\mu_0}{4\\pi r^3}\\big [3(\\vec\\mu_r\\cdot\\hat{r})\\hat{r}-\\vec\\mu_r\\big ] $$\n",
    "\n",
    "3 Cases:\n",
    "- Case 1: aligned N, \n",
    "- Case 2: aligned S, \n",
    "- Case 3: opposed."
   ]
  },
  {
   "cell_type": "code",
   "execution_count": 2,
   "metadata": {},
   "outputs": [],
   "source": [
    "import numpy as np\n",
    "import matplotlib.pyplot as plt\n",
    "import math as m\n",
    "from mpl_toolkits.mplot3d import axes3d"
   ]
  },
  {
   "cell_type": "code",
   "execution_count": 4,
   "metadata": {},
   "outputs": [],
   "source": [
    "MAGCONFIGR=[\n",
    "    [1, 0, 0],\n",
    "    [2, 0, 0],\n",
    "    [-1, 0, 0],\n",
    "    [-2, 0, 0],\n",
    "    [0, 1, 0],\n",
    "    [0, 2, 0],\n",
    "    [0,-1, 0],\n",
    "    [0, -2, 0],\n",
    "    [2*m.cos(1*m.pi/4), 2*m.sin(1*m.pi/4), 0],\n",
    "    [2*m.cos(3*m.pi/4), 2*m.sin(3*m.pi/4), 0],\n",
    "    [2*m.cos(5*m.pi/4), 2*m.sin(5*m.pi/4), 0],\n",
    "    [2*m.cos(7*m.pi/4), 2*m.sin(7*m.pi/4), 0]] \n",
    "\n",
    "MAGCONFIGM=[[0, 0, 1],\n",
    "    [0, 0, -1],\n",
    "    [0, 0, 1],\n",
    "    [0, 0, -1],\n",
    "    [0, 0, -1],\n",
    "    [0, 0, 1],\n",
    "    [0, 0, -1],\n",
    "    [0, 0, 1],\n",
    "    [0, 0, 1],\n",
    "    [0, 0, 1],\n",
    "    [0, 0, 0],\n",
    "    [0, 0, 0]]       \n",
    "\n",
    "MAGCONFIGR0=[[1, 0, 0],\n",
    "    [2, 0, 0],\n",
    "    [-1, 0, 0],\n",
    "    [-2, 0, 0],\n",
    "    [0, 1, 0],\n",
    "    [0, 2, 0],\n",
    "    [0,-1, 0],\n",
    "    [0, -2, 0],\n",
    "    [2*m.cos(3*m.pi/4), 2*m.sin(3*m.pi/4), 0],\n",
    "    [2*m.cos(7*m.pi/4), 2*m.sin(7*m.pi/4), 0]]\n",
    "\n",
    "MAGCONFIGR1=[[1, 0, 1],\n",
    "    [-1, 0, 1],\n",
    "    [0, 1, 1],\n",
    "    [0,-1, 1],\n",
    "    [2*m.cos(1*m.pi/4), 2*m.sin(1*m.pi/4), 1],\n",
    "    [2*m.cos(3*m.pi/4), 2*m.sin(3*m.pi/4), 1],\n",
    "    [2*m.cos(5*m.pi/4), 2*m.sin(5*m.pi/4), 1],\n",
    "    [2*m.cos(7*m.pi/4), 2*m.sin(7*m.pi/4), 1]]\n",
    "\n",
    "MAGCONFIGM0=[[0, 0, 1],\n",
    "    [0, 0, -1],\n",
    "    [0, 0, 1],\n",
    "    [0, 0, -1],\n",
    "    [0, 0, -1],\n",
    "    [0, 0, 1],\n",
    "    [0, 0, -1],\n",
    "    [0, 0, 1],\n",
    "    [0, 0, 1],\n",
    "    [0, 0, 1]]\n",
    "\n",
    "MAGCONFIGM1=[[0, 0, -1],\n",
    "    [0, 0, -1],\n",
    "    [0, 0, 1],\n",
    "    [0, 0, 1],\n",
    "    [0, 0, -1],\n",
    "    [0, 0, 1],\n",
    "    [0, 0, -1],\n",
    "    [0, 0, 1]]"
   ]
  },
  {
   "cell_type": "code",
   "execution_count": 5,
   "metadata": {},
   "outputs": [],
   "source": [
    "def vnorm(r):\n",
    "    return m.sqrt(np.dot(r,r))"
   ]
  },
  {
   "cell_type": "code",
   "execution_count": 6,
   "metadata": {},
   "outputs": [],
   "source": [
    "def unit(r):\n",
    "    return(np.divide(r,vnorm(r)))"
   ]
  },
  {
   "cell_type": "code",
   "execution_count": 7,
   "metadata": {},
   "outputs": [],
   "source": [
    "def Bdip(r,m):\n",
    "    C = 1 # mu_0 m / 4 pi\n",
    "    R = vnorm(r)\n",
    "    uR = unit(r)\n",
    "    vterms = 3*(np.multiply(np.dot(m,uR),uR))-m # 3(m \\cdot \\hat{r})\\hat{r} - m\n",
    "    return C*np.divide(vterms,R**3)"
   ]
  },
  {
   "cell_type": "code",
   "execution_count": 8,
   "metadata": {},
   "outputs": [],
   "source": [
    "def Bnorth(r):\n",
    "    return Bdip(r,[0,0,1])"
   ]
  },
  {
   "cell_type": "code",
   "execution_count": 9,
   "metadata": {},
   "outputs": [],
   "source": [
    "def Bsouth(r):\n",
    "    return Bdip(r,[0,0,-1])"
   ]
  },
  {
   "cell_type": "code",
   "execution_count": 10,
   "metadata": {},
   "outputs": [],
   "source": [
    "def dippot(r0, r1, m0, m1): # U = - m \\cdot B\n",
    "    r = np.subtract(r1,r0)\n",
    "    B = Bdip(r,m1)\n",
    "    return -1*np.dot(m0,B)"
   ]
  },
  {
   "cell_type": "code",
   "execution_count": 11,
   "metadata": {},
   "outputs": [],
   "source": [
    "def rotate(r, angle):\n",
    "    R = [[m.cos(angle),-m.sin(angle),0],\n",
    "          [m.sin(angle),m.cos(angle),0],\n",
    "          [0,0,1]]\n",
    "    return np.matmul(r,R)"
   ]
  },
  {
   "cell_type": "code",
   "execution_count": 12,
   "metadata": {},
   "outputs": [],
   "source": [
    "def totalU(r0, r1, m0, m1):\n",
    "    UU = 0\n",
    "    for i, R0 in enumerate(r0):\n",
    "        for j, R1 in enumerate(r1):\n",
    "            Utmp = dippot(R0, R1, m0[i], m1[j])\n",
    "            UU += Utmp\n",
    "            # print(\"%d, %d, %f\" % (i, j, Utmp))\n",
    "    return UU        \n"
   ]
  },
  {
   "cell_type": "code",
   "execution_count": 13,
   "metadata": {},
   "outputs": [],
   "source": [
    "def potential_sweep(r0, r1, m0, m1, res=50):\n",
    "    theta=np.linspace(0,2*m.pi, num=res)\n",
    "    potential=[]\n",
    "    for angle in theta:\n",
    "        rtmp = rotate(r1, angle)\n",
    "        potential.append(totalU(r0, rtmp, m0, m1))\n",
    "    return theta, potential"
   ]
  },
  {
   "cell_type": "code",
   "execution_count": 14,
   "metadata": {},
   "outputs": [],
   "source": [
    "def angle_sweep(r0, res=50):\n",
    "    theta=np.linspace(0,2*m.pi, num=res)\n",
    "    rx=[]\n",
    "    for angle in theta:\n",
    "        rtmp = rotate(r0, angle)\n",
    "        rx.append(rtmp[0])\n",
    "    return theta, rx  \n",
    "        "
   ]
  },
  {
   "cell_type": "code",
   "execution_count": null,
   "metadata": {},
   "outputs": [],
   "source": []
  }
 ],
 "metadata": {
  "kernelspec": {
   "display_name": "Python 3",
   "language": "python",
   "name": "python3"
  },
  "language_info": {
   "codemirror_mode": {
    "name": "ipython",
    "version": 3
   },
   "file_extension": ".py",
   "mimetype": "text/x-python",
   "name": "python",
   "nbconvert_exporter": "python",
   "pygments_lexer": "ipython3",
   "version": "3.6.5"
  }
 },
 "nbformat": 4,
 "nbformat_minor": 2
}
